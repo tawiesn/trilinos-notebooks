{
 "cells": [
  {
   "cell_type": "markdown",
   "metadata": {},
   "source": [
    "# Linear solvers and preconditioners"
   ]
  },
  {
   "cell_type": "markdown",
   "metadata": {},
   "source": [
    "## Initialization"
   ]
  },
  {
   "cell_type": "code",
   "execution_count": null,
   "metadata": {},
   "outputs": [],
   "source": [
    ".I /root/install/do-conf-tp-serial/include/"
   ]
  },
  {
   "cell_type": "code",
   "execution_count": null,
   "metadata": {},
   "outputs": [],
   "source": [
    ".L libteuchosparameterlist"
   ]
  },
  {
   "cell_type": "code",
   "execution_count": null,
   "metadata": {},
   "outputs": [],
   "source": [
    ".L libtpetra"
   ]
  },
  {
   "cell_type": "code",
   "execution_count": null,
   "metadata": {},
   "outputs": [],
   "source": [
    ".L libifpack2"
   ]
  },
  {
   "cell_type": "code",
   "execution_count": null,
   "metadata": {},
   "outputs": [],
   "source": [
    ".L libbelos"
   ]
  },
  {
   "cell_type": "markdown",
   "metadata": {},
   "source": [
    "## Header inclusions and typedefs"
   ]
  },
  {
   "cell_type": "code",
   "execution_count": null,
   "metadata": {},
   "outputs": [],
   "source": [
    "#include <Tpetra_CrsMatrix.hpp>\n",
    "#include <Tpetra_Vector.hpp>\n",
    "#include <Tpetra_Map_decl.hpp>"
   ]
  },
  {
   "cell_type": "code",
   "execution_count": null,
   "metadata": {},
   "outputs": [],
   "source": [
    "#include <BelosConfigDefs.hpp>\n",
    "#include <BelosLinearProblem.hpp>\n",
    "#include <BelosBlockCGSolMgr.hpp>\n",
    "#include <BelosPseudoBlockCGSolMgr.hpp>\n",
    "#include <BelosBlockGmresSolMgr.hpp>\n",
    "#include <BelosTpetraAdapter.hpp>"
   ]
  },
  {
   "cell_type": "code",
   "execution_count": null,
   "metadata": {},
   "outputs": [],
   "source": [
    "typedef double                                      scalar_type;\n",
    "typedef int                                         local_ordinal_type;\n",
    "typedef int                                         global_ordinal_type;\n",
    "\n",
    "// Convenient typedef's\n",
    "typedef Tpetra::Operator<scalar_type,local_ordinal_type,global_ordinal_type>    operator_type;\n",
    "typedef Tpetra::CrsMatrix<scalar_type,local_ordinal_type,global_ordinal_type>   crs_matrix_type;\n",
    "typedef Tpetra::Vector<scalar_type,local_ordinal_type,global_ordinal_type>      vector_type;\n",
    "typedef Tpetra::MultiVector<scalar_type,local_ordinal_type,global_ordinal_type> multivector_type;\n",
    "typedef Tpetra::Map<local_ordinal_type,global_ordinal_type>                     driver_map_type;\n",
    "\n",
    "typedef Belos::LinearProblem<scalar_type, multivector_type, operator_type> linear_problem_type;\n",
    "typedef Belos::SolverManager<scalar_type, multivector_type, operator_type> belos_solver_manager_type;\n",
    "typedef Belos::PseudoBlockCGSolMgr<scalar_type, multivector_type, operator_type> belos_pseudocg_manager_type;\n",
    "typedef Belos::BlockGmresSolMgr<scalar_type, multivector_type, operator_type> belos_gmres_manager_type;"
   ]
  },
  {
   "cell_type": "markdown",
   "metadata": {},
   "source": [
    "## Create comm object"
   ]
  },
  {
   "cell_type": "markdown",
   "metadata": {},
   "source": [
    "MPI is deactivated for the CLING tutorials. Therefore, the default communicator is a Serial communicator."
   ]
  },
  {
   "cell_type": "code",
   "execution_count": null,
   "metadata": {},
   "outputs": [],
   "source": [
    "#include <Teuchos_DefaultComm.hpp>"
   ]
  },
  {
   "cell_type": "code",
   "execution_count": null,
   "metadata": {},
   "outputs": [],
   "source": [
    "auto comm = Teuchos::DefaultComm<int>::getComm();"
   ]
  },
  {
   "cell_type": "markdown",
   "metadata": {},
   "source": [
    "## Define linear problem"
   ]
  },
  {
   "cell_type": "markdown",
   "metadata": {},
   "source": [
    "### Helper method to create matrix $A$"
   ]
  },
  {
   "cell_type": "code",
   "execution_count": null,
   "metadata": {},
   "outputs": [],
   "source": [
    "const Tpetra::global_size_t numGblIndices = 50;"
   ]
  },
  {
   "cell_type": "code",
   "execution_count": null,
   "metadata": {},
   "outputs": [],
   "source": [
    "Teuchos::RCP<const crs_matrix_type> createMatrix(const Teuchos::RCP<driver_map_type>& map)\n",
    "{\n",
    "    const size_t numMyElements = map->getNodeNumElements ();\n",
    "    Teuchos::RCP<crs_matrix_type> A (new crs_matrix_type (map, 3));\n",
    "    \n",
    "    const scalar_type two = static_cast<scalar_type> (2.0);\n",
    "    const scalar_type negOne = static_cast<scalar_type> (-1.0);\n",
    "    for (local_ordinal_type lclRow = 0; lclRow < static_cast<local_ordinal_type> (numMyElements); ++lclRow) \n",
    "    {\n",
    "        const global_ordinal_type gblRow = map->getGlobalElement (lclRow);\n",
    "        // A(0, 0:1) = [2, -1]\n",
    "        if (gblRow == 0) \n",
    "        {\n",
    "            A->insertGlobalValues (gblRow,\n",
    "             Teuchos::tuple<global_ordinal_type> (gblRow, gblRow + 1),\n",
    "             Teuchos::tuple<scalar_type> (two, negOne));\n",
    "        }\n",
    "        // A(N-1, N-2:N-1) = [-1, 2]\n",
    "        else if (static_cast<Tpetra::global_size_t> (gblRow) == numGblIndices - 1) \n",
    "        {\n",
    "            A->insertGlobalValues (gblRow,\n",
    "             Teuchos::tuple<global_ordinal_type> (gblRow - 1, gblRow),\n",
    "             Teuchos::tuple<scalar_type> (negOne, two));\n",
    "        }\n",
    "        // A(i, i-1:i+1) = [-1, 2, -1]\n",
    "        else {\n",
    "            A->insertGlobalValues (gblRow,\n",
    "             Teuchos::tuple<global_ordinal_type> (gblRow - 1, gblRow, gblRow + 1),\n",
    "             Teuchos::tuple<scalar_type> (negOne, two, negOne));\n",
    "        }\n",
    "    }\n",
    "    // Tell the sparse matrix that we are done adding entries to it.\n",
    "    A->fillComplete ();\n",
    "    return A;\n",
    "}"
   ]
  },
  {
   "cell_type": "markdown",
   "metadata": {},
   "source": [
    "### Create `Tpetra::Map` object used to generate matrix $A$"
   ]
  },
  {
   "cell_type": "code",
   "execution_count": null,
   "metadata": {},
   "outputs": [],
   "source": [
    "Teuchos::RCP<driver_map_type> map = Teuchos::rcp(new driver_map_type(numGblIndices,0,comm));"
   ]
  },
  {
   "cell_type": "code",
   "execution_count": null,
   "metadata": {},
   "outputs": [],
   "source": [
    "std::cout << map->description() << std::endl;"
   ]
  },
  {
   "cell_type": "markdown",
   "metadata": {},
   "source": [
    "Call helper function creating the tridiagonal problem matrix $A$"
   ]
  },
  {
   "cell_type": "code",
   "execution_count": null,
   "metadata": {},
   "outputs": [],
   "source": [
    "Teuchos::RCP<const crs_matrix_type> A = createMatrix(map);"
   ]
  },
  {
   "cell_type": "markdown",
   "metadata": {},
   "source": [
    "Define right hand-side vector $B$ and solution vector $X$. For this simple (serial) example we do not need to distinguish between row/range and column/domain maps."
   ]
  },
  {
   "cell_type": "code",
   "execution_count": null,
   "metadata": {},
   "outputs": [],
   "source": [
    "Teuchos::RCP<multivector_type> X = Teuchos::rcp(new multivector_type(map,1));\n",
    "Teuchos::RCP<multivector_type> B = Teuchos::rcp(new multivector_type(map,1));"
   ]
  },
  {
   "cell_type": "markdown",
   "metadata": {},
   "source": [
    "Initialize solution vector $X=0$ and fill right hand-side vector $B$ with some random values."
   ]
  },
  {
   "cell_type": "code",
   "execution_count": null,
   "metadata": {},
   "outputs": [],
   "source": [
    "X->putScalar((scalar_type) 0.0);\n",
    "B->randomize();"
   ]
  },
  {
   "cell_type": "code",
   "execution_count": null,
   "metadata": {},
   "outputs": [],
   "source": [
    "Teuchos::RCP<linear_problem_type> Problem = Teuchos::rcp(new linear_problem_type(A, X, B));"
   ]
  },
  {
   "cell_type": "markdown",
   "metadata": {},
   "source": [
    "The following command initializes internals of the `Belos::LinearProblem` class. See [the documentation](https://trilinos.org/docs/dev/packages/belos/doc/html/classBelos_1_1LinearProblem.html#afc39e9701a7207af47031859d15b3e8a) for details."
   ]
  },
  {
   "cell_type": "code",
   "execution_count": null,
   "metadata": {},
   "outputs": [],
   "source": [
    "Problem->setProblem();"
   ]
  },
  {
   "cell_type": "code",
   "execution_count": null,
   "metadata": {},
   "outputs": [],
   "source": [
    "#include <Teuchos_ParameterList.hpp>"
   ]
  },
  {
   "cell_type": "markdown",
   "metadata": {},
   "source": [
    "### Create a Belos solver"
   ]
  },
  {
   "cell_type": "code",
   "execution_count": null,
   "metadata": {},
   "outputs": [],
   "source": [
    "Teuchos::RCP<Teuchos::ParameterList> belosList = Teuchos::rcp(new Teuchos::ParameterList());"
   ]
  },
  {
   "cell_type": "code",
   "execution_count": null,
   "metadata": {},
   "outputs": [],
   "source": [
    "belosList->set(\"Maximum Iterations\",    1000); // Maximum number of iterations allowed\n",
    "belosList->set(\"Convergence Tolerance\", 1e-8);    // Relative convergence tolerance requested\n",
    "belosList->set(\"Verbosity\",             Belos::Errors + Belos::Warnings + Belos::StatusTestDetails);\n",
    "belosList->set(\"Output Frequency\",      10);\n",
    "belosList->set(\"Output Style\",          Belos::Brief);\n",
    "belosList->set(\"Implicit Residual Scaling\", \"None\");"
   ]
  },
  {
   "cell_type": "code",
   "execution_count": null,
   "metadata": {},
   "outputs": [],
   "source": [
    "Belos::SolverFactory<scalar_type, multivector_type, operator_type> factory;"
   ]
  },
  {
   "cell_type": "code",
   "execution_count": null,
   "metadata": {},
   "outputs": [],
   "source": [
    "Teuchos::RCP<Belos::SolverManager<scalar_type, multivector_type, operator_type> > solver = \n",
    "factory.create (\"GMRES\", belosList);"
   ]
  },
  {
   "cell_type": "markdown",
   "metadata": {},
   "source": [
    "Make the Belos solver aware of the `Belos::LinearProblem` instance that is to be solved"
   ]
  },
  {
   "cell_type": "code",
   "execution_count": null,
   "metadata": {},
   "outputs": [],
   "source": [
    "solver->setProblem (Problem);"
   ]
  },
  {
   "cell_type": "markdown",
   "metadata": {},
   "source": [
    "Solve the linear problem. The result is stored in the solution vector $X$."
   ]
  },
  {
   "cell_type": "code",
   "execution_count": null,
   "metadata": {},
   "outputs": [],
   "source": [
    "solver->solve();"
   ]
  },
  {
   "cell_type": "markdown",
   "metadata": {},
   "source": [
    "We have not set a preconditioner in the `Belos::LinearProblem` class. Therefore, the convergence is very slow. After $50$ iterations, the Krylov method of course has found the exact solution."
   ]
  },
  {
   "cell_type": "markdown",
   "metadata": {},
   "source": [
    "### Create a ILUT preconditioner"
   ]
  },
  {
   "cell_type": "code",
   "execution_count": null,
   "metadata": {},
   "outputs": [],
   "source": [
    "#include <Ifpack2_Factory.hpp>"
   ]
  },
  {
   "cell_type": "code",
   "execution_count": null,
   "metadata": {},
   "outputs": [],
   "source": [
    "// The name of the type of preconditioner to use.\n",
    "std::string precondType = \"ILUT\";\n",
    "\n",
    "// Ifpack2 expects arguments of type 'double' here, regardless of\n",
    "// the scalar or magnitude types of the entries of the sparse\n",
    "// matrix.\n",
    "const double fillLevel = 2.0;\n",
    "const double dropTol = 0.0;\n",
    "const double absThreshold = 0.1;\n",
    "\n",
    "Teuchos::ParameterList ifpack2Params;\n",
    "ifpack2Params.set (\"fact: ilut level-of-fill\", fillLevel);\n",
    "ifpack2Params.set (\"fact: drop tolerance\", dropTol);\n",
    "ifpack2Params.set (\"fact: absolute threshold\", absThreshold);"
   ]
  },
  {
   "cell_type": "code",
   "execution_count": null,
   "metadata": {},
   "outputs": [],
   "source": [
    "typedef Ifpack2::Preconditioner<scalar_type, local_ordinal_type, \n",
    "                  global_ordinal_type, Tpetra::Map<local_ordinal_type,global_ordinal_type>::node_type> \n",
    "                  prec_type;"
   ]
  },
  {
   "cell_type": "markdown",
   "metadata": {},
   "source": [
    "Use the `Ifpack2::Factory` factory class to create the preconditioner operator"
   ]
  },
  {
   "cell_type": "code",
   "execution_count": null,
   "metadata": {},
   "outputs": [],
   "source": [
    "Teuchos::RCP<prec_type> prec;"
   ]
  },
  {
   "cell_type": "code",
   "execution_count": null,
   "metadata": {},
   "outputs": [],
   "source": [
    "Ifpack2::Factory prec_factory;\n",
    "prec = prec_factory.create (precondType, A);\n",
    "prec->setParameters (ifpack2Params);"
   ]
  },
  {
   "cell_type": "code",
   "execution_count": null,
   "metadata": {},
   "outputs": [],
   "source": [
    "prec->initialize();"
   ]
  },
  {
   "cell_type": "code",
   "execution_count": null,
   "metadata": {},
   "outputs": [],
   "source": [
    "prec->compute();"
   ]
  },
  {
   "cell_type": "markdown",
   "metadata": {},
   "source": [
    "### Solve the linear system with the ILUT preconditioner"
   ]
  },
  {
   "cell_type": "markdown",
   "metadata": {},
   "source": [
    "Reset the solution vector $X=0$ for the iterative solver."
   ]
  },
  {
   "cell_type": "code",
   "execution_count": null,
   "metadata": {},
   "outputs": [],
   "source": [
    "X->putScalar((scalar_type) 0.0);"
   ]
  },
  {
   "cell_type": "markdown",
   "metadata": {},
   "source": [
    "Tell the `Belos::LinearProblem` instance to use the ILUT preconditioning operator as preconditioner (right-preconditioner). Call `Belos::LinerProblem::setProblem()` to reset all internals of the linear problem before solving it again."
   ]
  },
  {
   "cell_type": "code",
   "execution_count": null,
   "metadata": {},
   "outputs": [],
   "source": [
    "Problem->setRightPrec(prec);\n",
    "Problem->setProblem();"
   ]
  },
  {
   "cell_type": "markdown",
   "metadata": {},
   "source": [
    "Solve the linear problem again with the linear solver object."
   ]
  },
  {
   "cell_type": "code",
   "execution_count": null,
   "metadata": {},
   "outputs": [],
   "source": [
    "solver->solve();"
   ]
  },
  {
   "cell_type": "markdown",
   "metadata": {},
   "source": [
    "We solved the same problem as before (note: we have not changed the RHS vector $B$ and reset the initial solution vector $X$ to be zero in both cases). The only difference is the preconditioning: without preconditioner, the solver does not find a solution with a residual tolerance of 1e-8 within $50$ iterations. With the preconditioner, the solver converges within $18$ iterations"
   ]
  },
  {
   "cell_type": "code",
   "execution_count": null,
   "metadata": {},
   "outputs": [],
   "source": []
  }
 ],
 "metadata": {
  "kernelspec": {
   "display_name": "C++17",
   "language": "C++",
   "name": "cling-cpp17"
  },
  "language_info": {
   "codemirror_mode": "c++",
   "file_extension": ".c++",
   "mimetype": "text/x-c++src",
   "name": "c++"
  }
 },
 "nbformat": 4,
 "nbformat_minor": 2
}
