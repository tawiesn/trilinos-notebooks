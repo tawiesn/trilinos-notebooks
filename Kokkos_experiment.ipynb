{
 "cells": [
  {
   "cell_type": "markdown",
   "metadata": {},
   "source": [
    "# Basic Kokkos tutorial"
   ]
  },
  {
   "cell_type": "markdown",
   "metadata": {},
   "source": [
    "Declare include path for kokkos header files and import kokkos library."
   ]
  },
  {
   "cell_type": "code",
   "execution_count": 1,
   "metadata": {},
   "outputs": [
    {
     "data": {
      "text/plain": []
     },
     "execution_count": 1,
     "metadata": {},
     "output_type": "execute_result"
    }
   ],
   "source": [
    ".I /root/install/do-conf-tp-serial/include/"
   ]
  },
  {
   "cell_type": "code",
   "execution_count": 2,
   "metadata": {},
   "outputs": [
    {
     "data": {
      "text/plain": []
     },
     "execution_count": 2,
     "metadata": {},
     "output_type": "execute_result"
    }
   ],
   "source": [
    ".L libkokkoscore"
   ]
  },
  {
   "cell_type": "markdown",
   "metadata": {},
   "source": [
    "Include necessary header files"
   ]
  },
  {
   "cell_type": "code",
   "execution_count": 3,
   "metadata": {},
   "outputs": [
    {
     "data": {
      "text/plain": []
     },
     "execution_count": 3,
     "metadata": {},
     "output_type": "execute_result"
    }
   ],
   "source": [
    "#include <Kokkos_Core.hpp>"
   ]
  },
  {
   "cell_type": "code",
   "execution_count": 4,
   "metadata": {},
   "outputs": [
    {
     "data": {
      "text/plain": []
     },
     "execution_count": 4,
     "metadata": {},
     "output_type": "execute_result"
    }
   ],
   "source": [
    "#include <typeinfo>"
   ]
  },
  {
   "cell_type": "markdown",
   "metadata": {},
   "source": [
    "## parallel_for"
   ]
  },
  {
   "cell_type": "markdown",
   "metadata": {},
   "source": [
    "Define basic functor"
   ]
  },
  {
   "cell_type": "code",
   "execution_count": 5,
   "metadata": {},
   "outputs": [
    {
     "data": {
      "text/plain": []
     },
     "execution_count": 5,
     "metadata": {},
     "output_type": "execute_result"
    }
   ],
   "source": [
    "struct hello_world {\n",
    "  // If a functor has an \"execution_space\" (or \"execution_space\", for\n",
    "  // backwards compatibility) public typedef, parallel_* will only run\n",
    "  // the functor in that execution space.  That's a good way to mark a\n",
    "  // functor as specific to an execution space.  If the functor lacks\n",
    "  // this typedef, parallel_for will run it in the default execution\n",
    "  // space, unless you tell it otherwise (that's an advanced topic;\n",
    "  // see \"execution policies\").\n",
    "\n",
    "  // The functor's operator() defines the loop body.  It takes an\n",
    "  // integer argument which is the parallel for loop index.  Other\n",
    "  // arguments are possible; see the \"hierarchical parallelism\" part\n",
    "  // of the tutorial.\n",
    "  //\n",
    "  // The operator() method must be const, and must be marked with the\n",
    "  // KOKKOS_INLINE_FUNCTION macro.  If building with CUDA, this macro\n",
    "  // will mark your method as suitable for running on the CUDA device\n",
    "  // (as well as on the host).  If not building with CUDA, the macro\n",
    "  // is unnecessary but harmless.\n",
    "  KOKKOS_INLINE_FUNCTION\n",
    "  void operator() (const int i) const {\n",
    "    //printf (\"Hello from i = %i \\n\", i);\n",
    "      std::cout << \"Hello from i = \" << i << std::endl;\n",
    "  }\n",
    "};"
   ]
  },
  {
   "cell_type": "markdown",
   "metadata": {},
   "source": [
    "Run `parallel_for` on two threads"
   ]
  },
  {
   "cell_type": "code",
   "execution_count": 6,
   "metadata": {},
   "outputs": [
    {
     "name": "stderr",
     "output_type": "stream",
     "text": [
      "IncrementalExecutor::executeFunction: symbol '__emutls_v._ZN6Kokkos4Impl22SharedAllocationRecordIvvE18t_tracking_enabledE' unresolved while linking function '_GLOBAL__sub_I_cling_module_3'!\n"
     ]
    },
    {
     "name": "stdout",
     "output_type": "stream",
     "text": [
      "Hello from i = 8\n",
      "Hello from i = Hello from i = 90\n",
      "\n",
      "Hello from i = 10\n",
      "Hello from i = 11\n",
      "Hello from i = 12\n",
      "Hello from i = 13\n",
      "Hello from i = 14\n",
      "Hello from i = 1\n",
      "Hello from i = 2\n",
      "Hello from i = 3\n",
      "Hello from i = 4\n",
      "Hello from i = 5\n",
      "Hello from i = 6\n",
      "Hello from i = 7\n"
     ]
    },
    {
     "data": {
      "text/plain": [
       "(void) @0x7fc6d152aa28\n"
      ]
     },
     "execution_count": 6,
     "metadata": {},
     "output_type": "execute_result"
    }
   ],
   "source": [
    "Kokkos::InitArguments args;\n",
    "args.num_threads = 2;\n",
    "// 2 (CPU) NUMA regions per process\n",
    "args.num_numa = 1;\n",
    "// If Kokkos was built with CUDA enabled, use the GPU with device ID 1.\n",
    "args.device_id = 1;\n",
    "Kokkos::initialize(args);\n",
    "Kokkos::parallel_for (15, hello_world ());\n",
    "Kokkos::finalize();"
   ]
  },
  {
   "cell_type": "markdown",
   "metadata": {},
   "source": [
    "<b>Note:</b>\n",
    "* It only works if the Kokkos::InitArguments struct is defined in the same cell as the `Kokkos::initialization` is called. The `parallel_for` must be in the same cell as the `Kokkos::initialization` call\n",
    "* It always shows up the warning about an unresolved symbol Kokkos::Impl::SharedAllocationRecord tracking enabled...\n",
    "* Sometimes the C++ kernel is crashing and the jupyter notebook needs to be restarted\n",
    "* Have not tested lambdas"
   ]
  },
  {
   "cell_type": "markdown",
   "metadata": {},
   "source": [
    "## parallel_reduce"
   ]
  },
  {
   "cell_type": "code",
   "execution_count": 7,
   "metadata": {},
   "outputs": [
    {
     "data": {
      "text/plain": []
     },
     "execution_count": 7,
     "metadata": {},
     "output_type": "execute_result"
    }
   ],
   "source": [
    "struct sum_up_doubles {\n",
    "  KOKKOS_INLINE_FUNCTION\n",
    "  void operator() (const int i, double& update) const {\n",
    "    //printf (\"Hello from i = %i \\n\", i);\n",
    "    update += (double) i;\n",
    "  }\n",
    "};"
   ]
  },
  {
   "cell_type": "code",
   "execution_count": 8,
   "metadata": {},
   "outputs": [
    {
     "name": "stderr",
     "output_type": "stream",
     "text": [
      "IncrementalExecutor::executeFunction: symbol '__emutls_v._ZN6Kokkos4Impl22SharedAllocationRecordIvvE18t_tracking_enabledE' unresolved while linking function '_GLOBAL__sub_I_cling_module_7'!\n"
     ]
    },
    {
     "name": "stdout",
     "output_type": "stream",
     "text": [
      "10\n"
     ]
    },
    {
     "data": {
      "text/plain": [
       "(void) @0x7fc6d152aa28\n"
      ]
     },
     "execution_count": 8,
     "metadata": {},
     "output_type": "execute_result"
    }
   ],
   "source": [
    "Kokkos::InitArguments args2;\n",
    "args2.num_threads = 2;\n",
    "// 2 (CPU) NUMA regions per process\n",
    "args2.num_numa = 1;\n",
    "// If Kokkos was built with CUDA enabled, use the GPU with device ID 1.\n",
    "args2.device_id = 1;\n",
    "double sum = 0.0;\n",
    "size_t N = 5;\n",
    "Kokkos::initialize(args2);\n",
    "Kokkos::parallel_reduce (N, sum_up_doubles(), sum);\n",
    "std::cout << sum << std::endl;\n",
    "Kokkos::finalize();"
   ]
  },
  {
   "cell_type": "markdown",
   "metadata": {},
   "source": [
    "## Execution space"
   ]
  },
  {
   "cell_type": "code",
   "execution_count": 9,
   "metadata": {},
   "outputs": [
    {
     "name": "stdout",
     "output_type": "stream",
     "text": [
      "Hello World on Kokkos execution space N6Kokkos7ThreadsE\n"
     ]
    },
    {
     "data": {
      "text/plain": [
       "(int) 56\n"
      ]
     },
     "execution_count": 9,
     "metadata": {},
     "output_type": "execute_result"
    }
   ],
   "source": [
    "  printf (\"Hello World on Kokkos execution space %s\\n\",\n",
    "          typeid (Kokkos::DefaultExecutionSpace).name ());"
   ]
  },
  {
   "cell_type": "code",
   "execution_count": null,
   "metadata": {},
   "outputs": [],
   "source": []
  },
  {
   "cell_type": "code",
   "execution_count": null,
   "metadata": {},
   "outputs": [],
   "source": []
  },
  {
   "cell_type": "code",
   "execution_count": null,
   "metadata": {},
   "outputs": [],
   "source": []
  }
 ],
 "metadata": {
  "kernelspec": {
   "display_name": "C++11",
   "language": "C++",
   "name": "cling-cpp11"
  },
  "language_info": {
   "codemirror_mode": "c++",
   "file_extension": ".c++",
   "mimetype": "text/x-c++src",
   "name": "c++"
  }
 },
 "nbformat": 4,
 "nbformat_minor": 2
}
