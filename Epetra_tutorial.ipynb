{
 "cells": [
  {
   "cell_type": "code",
   "execution_count": null,
   "metadata": {},
   "outputs": [],
   "source": [
    ".I /root/install/do-conf-tp-serial/include/"
   ]
  },
  {
   "cell_type": "code",
   "execution_count": null,
   "metadata": {},
   "outputs": [],
   "source": [
    ".L libepetra"
   ]
  },
  {
   "cell_type": "code",
   "execution_count": null,
   "metadata": {},
   "outputs": [],
   "source": [
    "#include \"Epetra_SerialComm.h\""
   ]
  },
  {
   "cell_type": "code",
   "execution_count": null,
   "metadata": {},
   "outputs": [],
   "source": [
    "Epetra_SerialComm Comm;"
   ]
  },
  {
   "cell_type": "code",
   "execution_count": null,
   "metadata": {},
   "outputs": [],
   "source": [
    "#include \"Epetra_Map.h\""
   ]
  },
  {
   "cell_type": "code",
   "execution_count": null,
   "metadata": {},
   "outputs": [],
   "source": [
    "int NumMyElements = 20;"
   ]
  },
  {
   "cell_type": "code",
   "execution_count": null,
   "metadata": {},
   "outputs": [],
   "source": [
    "Epetra_Map Map(-1, NumMyElements, 0, Comm);\n",
    "int NumGlobalElements = Map.NumGlobalElements();"
   ]
  },
  {
   "cell_type": "code",
   "execution_count": null,
   "metadata": {},
   "outputs": [],
   "source": [
    "#include \"Epetra_CrsMatrix.h\"\n",
    "#include \"Epetra_Vector.h\""
   ]
  },
  {
   "cell_type": "code",
   "execution_count": null,
   "metadata": {},
   "outputs": [],
   "source": [
    "Epetra_CrsMatrix A(Copy, Map, 3);\n",
    "\n",
    "double negOne = -1.0;\n",
    "double posTwo = 2.0;\n",
    "for (int i=0; i<NumMyElements; i++) {\n",
    "    int GlobalRow = A.GRID(i); int RowLess1 = GlobalRow - 1; int RowPlus1 = GlobalRow + 1;\n",
    "\n",
    "    if (RowLess1!=-1) A.InsertGlobalValues(GlobalRow, 1, &negOne, &RowLess1);\n",
    "    if (RowPlus1!=NumGlobalElements) A.InsertGlobalValues(GlobalRow, 1, &negOne, &RowPlus1);\n",
    "    A.InsertGlobalValues(GlobalRow, 1, &posTwo, &GlobalRow);\n",
    "};\n",
    "\n",
    "A.FillComplete();"
   ]
  },
  {
   "cell_type": "code",
   "execution_count": null,
   "metadata": {},
   "outputs": [],
   "source": [
    "std::cout << A << std::endl;"
   ]
  },
  {
   "cell_type": "code",
   "execution_count": null,
   "metadata": {},
   "outputs": [],
   "source": [
    "double\n",
    "powerMethod (const Epetra_Operator& A,\n",
    "             const int niters,\n",
    "             const double tolerance)\n",
    "{\n",
    "  using std::cout;\n",
    "  using std::endl;\n",
    "\n",
    "  // An Operator doesn't have a Comm, but its domain Map does.\n",
    "  const Epetra_Comm& comm = A.OperatorDomainMap ().Comm ();\n",
    "  const int myRank = comm.MyPID ();\n",
    "\n",
    "  // Create three vectors for iterating the power method.  Since the\n",
    "  // power method computes z = A*q, q should be in the domain of A and\n",
    "  // z should be in the range.  (Obviously the power method requires\n",
    "  // that the domain and the range are equal, but it's a good idea to\n",
    "  // get into the habit of thinking whether a particular vector\n",
    "  // \"belongs\" in the domain or range of the matrix.)  The residual\n",
    "  // vector \"resid\" is of course in the range of A.\n",
    "  Epetra_Vector q (A.OperatorDomainMap ());\n",
    "  Epetra_Vector z (A.OperatorRangeMap ());\n",
    "  Epetra_Vector resid (A.OperatorRangeMap ());\n",
    "\n",
    "  // Local error code for use below.\n",
    "  int lclerr = 0;\n",
    "\n",
    "  // Fill the iteration vector z with random numbers to start.  Don't\n",
    "  // have grand expectations about the quality of our pseudorandom\n",
    "  // number generator; this is usually good enough for eigensolvers.\n",
    "  //\n",
    "  // If this call fails, just let the code below finish before trying\n",
    "  // to catch the error globally.  Ditto for other calls below.\n",
    "  lclerr = z.Random ();\n",
    "\n",
    "  // lambda: the current approximation of the eigenvalue of maximum magnitude.\n",
    "  // normz: the 2-norm of the current iteration vector z.\n",
    "  // residual: the 2-norm of the current residual vector \"resid\"\n",
    "  double lambda = 0.0;\n",
    "  double normz = 0.0;\n",
    "  double residual = 0.0;\n",
    "\n",
    "  const double zero = 0.0;\n",
    "  const double one = 1.0;\n",
    "\n",
    "  // How often to report progress in the power method.  Reporting\n",
    "  // progress requires computing a residual which can be expensive.\n",
    "  // However, if you don't compute the residual often enough, you\n",
    "  // might keep iterating even after you've converged.\n",
    "  const int reportFrequency = 10;\n",
    "\n",
    "  // Do the power method, until the method has converged or the\n",
    "  // maximum iteration count has been reached.\n",
    "  for (int iter = 0; iter < niters; ++iter) {\n",
    "    // If you feel confident that your code is correct, you may omit\n",
    "    // everything having to do with lclerr, and just write the following:\n",
    "    //\n",
    "    // z.Norm2 (&normz);         // Compute the 2-norm of z\n",
    "    // q.Scale (one / normz, z); // q := z / normz\n",
    "    // A.Apply (q, z);           // z := A * q\n",
    "    // q.Dot (z, &lambda);       // Approx. max eigenvalue\n",
    "\n",
    "    lclerr = (lclerr == 0) ? z.Norm2 (&normz) : lclerr;\n",
    "    lclerr = (lclerr == 0) ? q.Scale (one / normz, z) : lclerr;\n",
    "    lclerr = (lclerr == 0) ? A.Apply (q, z) : lclerr;\n",
    "    lclerr = (lclerr == 0) ? q.Dot (z, &lambda) : lclerr;\n",
    "\n",
    "    // Compute and report the residual norm every reportFrequency\n",
    "    // iterations, or if we've reached the maximum iteration count.\n",
    "    if (iter % reportFrequency == 0 || iter + 1 == niters) {\n",
    "      // If you feel confident that your code is correct, you may omit\n",
    "      // everything having to do with lclerr, and just write the\n",
    "      // following:\n",
    "      //\n",
    "      // resid.Update (one, z, -lambda, q, zero); // z := A*q - lambda*q\n",
    "      // resid.Norm2 (&residual); // 2-norm of the residual vector\n",
    "\n",
    "      lclerr = (lclerr == 0) ? resid.Update (one, z, -lambda, q, zero) : lclerr;\n",
    "      lclerr = (lclerr == 0) ? resid.Norm2 (&residual) : lclerr;\n",
    "\n",
    "      if (myRank == 0) {\n",
    "        cout << \"Iteration \" << iter << \":\" << endl\n",
    "             << \"- lambda = \" << lambda << endl\n",
    "             << \"- ||A*q - lambda*q||_2 = \" << residual << endl;\n",
    "      }\n",
    "    }\n",
    "    if (residual < tolerance) {\n",
    "      if (myRank == 0) {\n",
    "        cout << \"Converged after \" << iter << \" iterations\" << endl;\n",
    "      }\n",
    "      break;\n",
    "    } else if (iter + 1 == niters) {\n",
    "      if (myRank == 0) {\n",
    "        cout << \"Failed to converge after \" << niters << \" iterations\" << endl;\n",
    "      }\n",
    "      break;\n",
    "    }\n",
    "  }\n",
    "\n",
    "  // If any process failed to insert at least one entry, throw.\n",
    "  int gblerr = 0;\n",
    "  (void) comm.MaxAll (&lclerr, &gblerr, 1);\n",
    "  if (gblerr != 0) {\n",
    "    throw std::runtime_error (\"The power method failed in some way.\");\n",
    "  }\n",
    "\n",
    "  return lambda;\n",
    "}"
   ]
  },
  {
   "cell_type": "code",
   "execution_count": null,
   "metadata": {
    "scrolled": false
   },
   "outputs": [],
   "source": [
    "powerMethod(A, 1500, 1e-8);"
   ]
  },
  {
   "cell_type": "code",
   "execution_count": null,
   "metadata": {},
   "outputs": [],
   "source": []
  }
 ],
 "metadata": {
  "kernelspec": {
   "display_name": "C++17",
   "language": "C++",
   "name": "cling-cpp17"
  },
  "language_info": {
   "codemirror_mode": "c++",
   "file_extension": ".c++",
   "mimetype": "text/x-c++src",
   "name": "c++"
  }
 },
 "nbformat": 4,
 "nbformat_minor": 2
}
