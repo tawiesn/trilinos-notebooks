{
 "cells": [
  {
   "cell_type": "markdown",
   "metadata": {},
   "source": [
    "# Epetra tutorial"
   ]
  },
  {
   "cell_type": "markdown",
   "metadata": {},
   "source": [
    "## Preparation"
   ]
  },
  {
   "cell_type": "markdown",
   "metadata": {},
   "source": [
    "Declare header file location. This is the installation folder of the Trilinos header files."
   ]
  },
  {
   "cell_type": "code",
   "execution_count": 1,
   "metadata": {},
   "outputs": [
    {
     "data": {
      "text/plain": []
     },
     "execution_count": 1,
     "metadata": {},
     "output_type": "execute_result"
    }
   ],
   "source": [
    ".I /root/install/do-conf-tp-serial/include/"
   ]
  },
  {
   "cell_type": "markdown",
   "metadata": {},
   "source": [
    "Load the libepetra.so library from Trilinos."
   ]
  },
  {
   "cell_type": "code",
   "execution_count": 2,
   "metadata": {},
   "outputs": [
    {
     "data": {
      "text/plain": []
     },
     "execution_count": 2,
     "metadata": {},
     "output_type": "execute_result"
    }
   ],
   "source": [
    ".L libepetra"
   ]
  },
  {
   "cell_type": "markdown",
   "metadata": {},
   "source": [
    "Now, we should have access to all Epetra functionality."
   ]
  },
  {
   "cell_type": "markdown",
   "metadata": {},
   "source": [
    "## Create communicator"
   ]
  },
  {
   "cell_type": "markdown",
   "metadata": {},
   "source": [
    "Create a Comm object."
   ]
  },
  {
   "cell_type": "code",
   "execution_count": 3,
   "metadata": {},
   "outputs": [
    {
     "data": {
      "text/plain": []
     },
     "execution_count": 3,
     "metadata": {},
     "output_type": "execute_result"
    }
   ],
   "source": [
    "#include \"Epetra_SerialComm.h\""
   ]
  },
  {
   "cell_type": "code",
   "execution_count": 4,
   "metadata": {},
   "outputs": [
    {
     "data": {
      "text/plain": []
     },
     "execution_count": 4,
     "metadata": {},
     "output_type": "execute_result"
    }
   ],
   "source": [
    "Epetra_SerialComm Comm;"
   ]
  },
  {
   "cell_type": "markdown",
   "metadata": {},
   "source": [
    "## Create a Map"
   ]
  },
  {
   "cell_type": "code",
   "execution_count": 5,
   "metadata": {},
   "outputs": [
    {
     "data": {
      "text/plain": []
     },
     "execution_count": 5,
     "metadata": {},
     "output_type": "execute_result"
    }
   ],
   "source": [
    "#include \"Epetra_Map.h\""
   ]
  },
  {
   "cell_type": "code",
   "execution_count": 6,
   "metadata": {},
   "outputs": [
    {
     "data": {
      "text/plain": []
     },
     "execution_count": 6,
     "metadata": {},
     "output_type": "execute_result"
    }
   ],
   "source": [
    "int NumMyElements = 20;"
   ]
  },
  {
   "cell_type": "code",
   "execution_count": 7,
   "metadata": {},
   "outputs": [
    {
     "data": {
      "text/plain": []
     },
     "execution_count": 7,
     "metadata": {},
     "output_type": "execute_result"
    }
   ],
   "source": [
    "Epetra_Map Map(-1, NumMyElements, 0, Comm);"
   ]
  },
  {
   "cell_type": "markdown",
   "metadata": {},
   "source": [
    "## Create a CRS Matrix"
   ]
  },
  {
   "cell_type": "code",
   "execution_count": 8,
   "metadata": {},
   "outputs": [
    {
     "data": {
      "text/plain": []
     },
     "execution_count": 8,
     "metadata": {},
     "output_type": "execute_result"
    }
   ],
   "source": [
    "#include \"Epetra_CrsMatrix.h\""
   ]
  },
  {
   "cell_type": "code",
   "execution_count": 9,
   "metadata": {},
   "outputs": [
    {
     "data": {
      "text/plain": []
     },
     "execution_count": 9,
     "metadata": {},
     "output_type": "execute_result"
    }
   ],
   "source": [
    "int NumGlobalElements = Map.NumGlobalElements();"
   ]
  },
  {
   "cell_type": "code",
   "execution_count": 10,
   "metadata": {},
   "outputs": [
    {
     "data": {
      "text/plain": []
     },
     "execution_count": 10,
     "metadata": {},
     "output_type": "execute_result"
    }
   ],
   "source": [
    "Epetra_CrsMatrix A(Copy, Map, 3);"
   ]
  },
  {
   "cell_type": "markdown",
   "metadata": {},
   "source": [
    "Create a tridiagonal matrix with stencil $[-1,2,-1]$."
   ]
  },
  {
   "cell_type": "code",
   "execution_count": 11,
   "metadata": {},
   "outputs": [
    {
     "data": {
      "text/plain": [
       "(int) 0\n"
      ]
     },
     "execution_count": 11,
     "metadata": {},
     "output_type": "execute_result"
    }
   ],
   "source": [
    "double negOne = -1.0;\n",
    "double posTwo = 2.0;\n",
    "for (int i=0; i<NumMyElements; i++) {\n",
    "    int GlobalRow = A.GRID(i); int RowLess1 = GlobalRow - 1; int RowPlus1 = GlobalRow + 1;\n",
    "\n",
    "    if (RowLess1!=-1) A.InsertGlobalValues(GlobalRow, 1, &negOne, &RowLess1);\n",
    "    if (RowPlus1!=NumGlobalElements) A.InsertGlobalValues(GlobalRow, 1, &negOne, &RowPlus1);\n",
    "    A.InsertGlobalValues(GlobalRow, 1, &posTwo, &GlobalRow);\n",
    "};\n",
    "\n",
    "A.FillComplete();"
   ]
  },
  {
   "cell_type": "code",
   "execution_count": 12,
   "metadata": {},
   "outputs": [
    {
     "name": "stdout",
     "output_type": "stream",
     "text": [
      "Epetra::CrsMatrix\n",
      "Number of Global Rows        = 20\n",
      "Number of Global Cols        = 20\n",
      "Number of Global Diagonals   = 20\n",
      "Number of Global Nonzeros    = 58\n",
      "Global Maximum Num Entries   = 3\n",
      "\n",
      "Number of My Rows        = 20\n",
      "Number of My Cols        = 20\n",
      "Number of My Diagonals   = 20\n",
      "Number of My Nonzeros    = 58\n",
      "My Maximum Num Entries   = 3\n",
      "\n",
      "   Processor    Row Index    Col Index           Value     \n",
      "       0             0             0                       2    \n",
      "       0             0             1                      -1    \n",
      "       0             1             0                      -1    \n",
      "       0             1             1                       2    \n",
      "       0             1             2                      -1    \n",
      "       0             2             1                      -1    \n",
      "       0             2             2                       2    \n",
      "       0             2             3                      -1    \n",
      "       0             3             2                      -1    \n",
      "       0             3             3                       2    \n",
      "       0             3             4                      -1    \n",
      "       0             4             3                      -1    \n",
      "       0             4             4                       2    \n",
      "       0             4             5                      -1    \n",
      "       0             5             4                      -1    \n",
      "       0             5             5                       2    \n",
      "       0             5             6                      -1    \n",
      "       0             6             5                      -1    \n",
      "       0             6             6                       2    \n",
      "       0             6             7                      -1    \n",
      "       0             7             6                      -1    \n",
      "       0             7             7                       2    \n",
      "       0             7             8                      -1    \n",
      "       0             8             7                      -1    \n",
      "       0             8             8                       2    \n",
      "       0             8             9                      -1    \n",
      "       0             9             8                      -1    \n",
      "       0             9             9                       2    \n",
      "       0             9            10                      -1    \n",
      "       0            10             9                      -1    \n",
      "       0            10            10                       2    \n",
      "       0            10            11                      -1    \n",
      "       0            11            10                      -1    \n",
      "       0            11            11                       2    \n",
      "       0            11            12                      -1    \n",
      "       0            12            11                      -1    \n",
      "       0            12            12                       2    \n",
      "       0            12            13                      -1    \n",
      "       0            13            12                      -1    \n",
      "       0            13            13                       2    \n",
      "       0            13            14                      -1    \n",
      "       0            14            13                      -1    \n",
      "       0            14            14                       2    \n",
      "       0            14            15                      -1    \n",
      "       0            15            14                      -1    \n",
      "       0            15            15                       2    \n",
      "       0            15            16                      -1    \n",
      "       0            16            15                      -1    \n",
      "       0            16            16                       2    \n",
      "       0            16            17                      -1    \n",
      "       0            17            16                      -1    \n",
      "       0            17            17                       2    \n",
      "       0            17            18                      -1    \n",
      "       0            18            17                      -1    \n",
      "       0            18            18                       2    \n",
      "       0            18            19                      -1    \n",
      "       0            19            18                      -1    \n",
      "       0            19            19                       2    \n",
      "\n"
     ]
    },
    {
     "data": {
      "text/plain": [
       "(std::basic_ostream<char, std::char_traits<char> >::__ostream_type &) @0x7fe448635640\n"
      ]
     },
     "execution_count": 12,
     "metadata": {},
     "output_type": "execute_result"
    }
   ],
   "source": [
    "std::cout << A << std::endl;"
   ]
  },
  {
   "cell_type": "markdown",
   "metadata": {},
   "source": [
    "## Define Power Method"
   ]
  },
  {
   "cell_type": "code",
   "execution_count": 13,
   "metadata": {},
   "outputs": [
    {
     "data": {
      "text/plain": []
     },
     "execution_count": 13,
     "metadata": {},
     "output_type": "execute_result"
    }
   ],
   "source": [
    "#include \"Epetra_Vector.h\""
   ]
  },
  {
   "cell_type": "code",
   "execution_count": 14,
   "metadata": {},
   "outputs": [
    {
     "data": {
      "text/plain": []
     },
     "execution_count": 14,
     "metadata": {},
     "output_type": "execute_result"
    }
   ],
   "source": [
    "double powerMethod (const Epetra_Operator& A, const int niters, const double tolerance)\n",
    "{\n",
    "  using std::cout;\n",
    "  using std::endl;\n",
    "\n",
    "  // An Operator doesn't have a Comm, but its domain Map does.\n",
    "  const Epetra_Comm& comm = A.OperatorDomainMap ().Comm ();\n",
    "  const int myRank = comm.MyPID ();\n",
    "\n",
    "  // Create three vectors for iterating the power method.  Since the\n",
    "  // power method computes z = A*q, q should be in the domain of A and\n",
    "  // z should be in the range.  (Obviously the power method requires\n",
    "  // that the domain and the range are equal, but it's a good idea to\n",
    "  // get into the habit of thinking whether a particular vector\n",
    "  // \"belongs\" in the domain or range of the matrix.)  The residual\n",
    "  // vector \"resid\" is of course in the range of A.\n",
    "  Epetra_Vector q (A.OperatorDomainMap ());\n",
    "  Epetra_Vector z (A.OperatorRangeMap ());\n",
    "  Epetra_Vector resid (A.OperatorRangeMap ());\n",
    "\n",
    "  // Local error code for use below.\n",
    "  int lclerr = 0;\n",
    "\n",
    "  // Fill the iteration vector z with random numbers to start.  Don't\n",
    "  // have grand expectations about the quality of our pseudorandom\n",
    "  // number generator; this is usually good enough for eigensolvers.\n",
    "  lclerr = z.Random ();\n",
    "\n",
    "  // lambda: the current approximation of the eigenvalue of maximum magnitude.\n",
    "  // normz: the 2-norm of the current iteration vector z.\n",
    "  // residual: the 2-norm of the current residual vector \"resid\"\n",
    "  double lambda = 0.0;\n",
    "  double normz = 0.0;\n",
    "  double residual = 0.0;\n",
    "\n",
    "  const double zero = 0.0;\n",
    "  const double one = 1.0;\n",
    "\n",
    "  // How often to report progress in the power method. \n",
    "  const int reportFrequency = 10;\n",
    "\n",
    "  // Do the power method, until the method has converged or the\n",
    "  // maximum iteration count has been reached.\n",
    "  for (int iter = 0; iter < niters; ++iter) {\n",
    "\n",
    "    z.Norm2 (&normz);         // Compute the 2-norm of z\n",
    "    q.Scale (one / normz, z); // q := z / normz\n",
    "    A.Apply (q, z);           // z := A * q\n",
    "    q.Dot (z, &lambda);       // Approx. max eigenvalue\n",
    "\n",
    "    // Compute and report the residual norm every reportFrequency\n",
    "    // iterations, or if we've reached the maximum iteration count.\n",
    "    if (iter % reportFrequency == 0 || iter + 1 == niters) {\n",
    "\n",
    "      resid.Update (one, z, -lambda, q, zero); // z := A*q - lambda*q\n",
    "      resid.Norm2 (&residual); // 2-norm of the residual vector\n",
    "\n",
    "      if (myRank == 0) {\n",
    "        cout << \"Iteration \" << iter << \":\" << endl\n",
    "             << \"- lambda = \" << lambda << endl\n",
    "             << \"- ||A*q - lambda*q||_2 = \" << residual << endl;\n",
    "      }\n",
    "    }\n",
    "    if (residual < tolerance) {\n",
    "      if (myRank == 0) {\n",
    "        cout << \"Converged after \" << iter << \" iterations\" << endl;\n",
    "      }\n",
    "      break;\n",
    "    } else if (iter + 1 == niters) {\n",
    "      if (myRank == 0) {\n",
    "        cout << \"Failed to converge after \" << niters << \" iterations\" << endl;\n",
    "      }\n",
    "      break;\n",
    "    }\n",
    "  }\n",
    "\n",
    "  return lambda;\n",
    "}"
   ]
  },
  {
   "cell_type": "markdown",
   "metadata": {},
   "source": [
    "## Test power method"
   ]
  },
  {
   "cell_type": "code",
   "execution_count": 15,
   "metadata": {
    "scrolled": false
   },
   "outputs": [
    {
     "name": "stdout",
     "output_type": "stream",
     "text": [
      "Iteration 0:\n",
      "- lambda = 2.98946\n",
      "- ||A*q - lambda*q||_2 = 1.17501\n",
      "Iteration 10:\n",
      "- lambda = 3.87401\n",
      "- ||A*q - lambda*q||_2 = 0.150113\n",
      "Iteration 20:\n",
      "- lambda = 3.94571\n",
      "- ||A*q - lambda*q||_2 = 0.0848345\n",
      "Iteration 30:\n",
      "- lambda = 3.96731\n",
      "- ||A*q - lambda*q||_2 = 0.0460452\n",
      "Iteration 40:\n",
      "- lambda = 3.97382\n",
      "- ||A*q - lambda*q||_2 = 0.0262001\n",
      "Iteration 50:\n",
      "- lambda = 3.97604\n",
      "- ||A*q - lambda*q||_2 = 0.015907\n",
      "Iteration 60:\n",
      "- lambda = 3.9769\n",
      "- ||A*q - lambda*q||_2 = 0.0102056\n",
      "Iteration 70:\n",
      "- lambda = 3.97726\n",
      "- ||A*q - lambda*q||_2 = 0.0068583\n",
      "Iteration 80:\n",
      "- lambda = 3.97744\n",
      "- ||A*q - lambda*q||_2 = 0.00481481\n",
      "Iteration 90:\n",
      "- lambda = 3.97752\n",
      "- ||A*q - lambda*q||_2 = 0.00352972\n",
      "Iteration 100:\n",
      "- lambda = 3.97757\n",
      "- ||A*q - lambda*q||_2 = 0.00269416\n",
      "Iteration 110:\n",
      "- lambda = 3.9776\n",
      "- ||A*q - lambda*q||_2 = 0.00212669\n",
      "Iteration 120:\n",
      "- lambda = 3.97762\n",
      "- ||A*q - lambda*q||_2 = 0.00172116\n",
      "Iteration 130:\n",
      "- lambda = 3.97763\n",
      "- ||A*q - lambda*q||_2 = 0.00141665\n",
      "Iteration 140:\n",
      "- lambda = 3.97764\n",
      "- ||A*q - lambda*q||_2 = 0.00117853\n",
      "Iteration 150:\n",
      "- lambda = 3.97765\n",
      "- ||A*q - lambda*q||_2 = 0.000986779\n",
      "Iteration 160:\n",
      "- lambda = 3.97765\n",
      "- ||A*q - lambda*q||_2 = 0.000829379\n",
      "Iteration 170:\n",
      "- lambda = 3.97765\n",
      "- ||A*q - lambda*q||_2 = 0.000698623\n",
      "Iteration 180:\n",
      "- lambda = 3.97766\n",
      "- ||A*q - lambda*q||_2 = 0.000589226\n",
      "Iteration 190:\n",
      "- lambda = 3.97766\n",
      "- ||A*q - lambda*q||_2 = 0.000497318\n",
      "Iteration 200:\n",
      "- lambda = 3.97766\n",
      "- ||A*q - lambda*q||_2 = 0.000419918\n",
      "Iteration 210:\n",
      "- lambda = 3.97766\n",
      "- ||A*q - lambda*q||_2 = 0.000354647\n",
      "Iteration 220:\n",
      "- lambda = 3.97766\n",
      "- ||A*q - lambda*q||_2 = 0.00029956\n",
      "Iteration 230:\n",
      "- lambda = 3.97766\n",
      "- ||A*q - lambda*q||_2 = 0.000253049\n",
      "Iteration 240:\n",
      "- lambda = 3.97766\n",
      "- ||A*q - lambda*q||_2 = 0.000213768\n",
      "Iteration 250:\n",
      "- lambda = 3.97766\n",
      "- ||A*q - lambda*q||_2 = 0.000180589\n",
      "Iteration 260:\n",
      "- lambda = 3.97766\n",
      "- ||A*q - lambda*q||_2 = 0.000152562\n",
      "Iteration 270:\n",
      "- lambda = 3.97766\n",
      "- ||A*q - lambda*q||_2 = 0.000128885\n",
      "Iteration 280:\n",
      "- lambda = 3.97766\n",
      "- ||A*q - lambda*q||_2 = 0.000108884\n",
      "Iteration 290:\n",
      "- lambda = 3.97766\n",
      "- ||A*q - lambda*q||_2 = 9.19864e-05\n",
      "Iteration 300:\n",
      "- lambda = 3.97766\n",
      "- ||A*q - lambda*q||_2 = 7.77114e-05\n",
      "Iteration 310:\n",
      "- lambda = 3.97766\n",
      "- ||A*q - lambda*q||_2 = 6.56517e-05\n",
      "Iteration 320:\n",
      "- lambda = 3.97766\n",
      "- ||A*q - lambda*q||_2 = 5.54635e-05\n",
      "Iteration 330:\n",
      "- lambda = 3.97766\n",
      "- ||A*q - lambda*q||_2 = 4.68563e-05\n",
      "Iteration 340:\n",
      "- lambda = 3.97766\n",
      "- ||A*q - lambda*q||_2 = 3.95849e-05\n",
      "Iteration 350:\n",
      "- lambda = 3.97766\n",
      "- ||A*q - lambda*q||_2 = 3.34419e-05\n",
      "Iteration 360:\n",
      "- lambda = 3.97766\n",
      "- ||A*q - lambda*q||_2 = 2.82522e-05\n",
      "Iteration 370:\n",
      "- lambda = 3.97766\n",
      "- ||A*q - lambda*q||_2 = 2.38679e-05\n",
      "Iteration 380:\n",
      "- lambda = 3.97766\n",
      "- ||A*q - lambda*q||_2 = 2.0164e-05\n",
      "Iteration 390:\n",
      "- lambda = 3.97766\n",
      "- ||A*q - lambda*q||_2 = 1.70348e-05\n",
      "Iteration 400:\n",
      "- lambda = 3.97766\n",
      "- ||A*q - lambda*q||_2 = 1.43913e-05\n",
      "Iteration 410:\n",
      "- lambda = 3.97766\n",
      "- ||A*q - lambda*q||_2 = 1.21579e-05\n",
      "Iteration 420:\n",
      "- lambda = 3.97766\n",
      "- ||A*q - lambda*q||_2 = 1.02712e-05\n",
      "Iteration 430:\n",
      "- lambda = 3.97766\n",
      "- ||A*q - lambda*q||_2 = 8.67727e-06\n",
      "Iteration 440:\n",
      "- lambda = 3.97766\n",
      "- ||A*q - lambda*q||_2 = 7.33068e-06\n",
      "Iteration 450:\n",
      "- lambda = 3.97766\n",
      "- ||A*q - lambda*q||_2 = 6.19307e-06\n",
      "Iteration 460:\n",
      "- lambda = 3.97766\n",
      "- ||A*q - lambda*q||_2 = 5.232e-06\n",
      "Iteration 470:\n",
      "- lambda = 3.97766\n",
      "- ||A*q - lambda*q||_2 = 4.42007e-06\n",
      "Iteration 480:\n",
      "- lambda = 3.97766\n",
      "- ||A*q - lambda*q||_2 = 3.73414e-06\n",
      "Iteration 490:\n",
      "- lambda = 3.97766\n",
      "- ||A*q - lambda*q||_2 = 3.15466e-06\n",
      "Iteration 500:\n",
      "- lambda = 3.97766\n",
      "- ||A*q - lambda*q||_2 = 2.6651e-06\n",
      "Iteration 510:\n",
      "- lambda = 3.97766\n",
      "- ||A*q - lambda*q||_2 = 2.25151e-06\n",
      "Iteration 520:\n",
      "- lambda = 3.97766\n",
      "- ||A*q - lambda*q||_2 = 1.90211e-06\n",
      "Iteration 530:\n",
      "- lambda = 3.97766\n",
      "- ||A*q - lambda*q||_2 = 1.60693e-06\n",
      "Iteration 540:\n",
      "- lambda = 3.97766\n",
      "- ||A*q - lambda*q||_2 = 1.35756e-06\n",
      "Iteration 550:\n",
      "- lambda = 3.97766\n",
      "- ||A*q - lambda*q||_2 = 1.14689e-06\n",
      "Iteration 560:\n",
      "- lambda = 3.97766\n",
      "- ||A*q - lambda*q||_2 = 9.68907e-07\n",
      "Iteration 570:\n",
      "- lambda = 3.97766\n",
      "- ||A*q - lambda*q||_2 = 8.18547e-07\n",
      "Iteration 580:\n",
      "- lambda = 3.97766\n",
      "- ||A*q - lambda*q||_2 = 6.91521e-07\n",
      "Iteration 590:\n",
      "- lambda = 3.97766\n",
      "- ||A*q - lambda*q||_2 = 5.84207e-07\n",
      "Iteration 600:\n",
      "- lambda = 3.97766\n",
      "- ||A*q - lambda*q||_2 = 4.93546e-07\n",
      "Iteration 610:\n",
      "- lambda = 3.97766\n",
      "- ||A*q - lambda*q||_2 = 4.16955e-07\n",
      "Iteration 620:\n",
      "- lambda = 3.97766\n",
      "- ||A*q - lambda*q||_2 = 3.5225e-07\n",
      "Iteration 630:\n",
      "- lambda = 3.97766\n",
      "- ||A*q - lambda*q||_2 = 2.97586e-07\n",
      "Iteration 640:\n",
      "- lambda = 3.97766\n",
      "- ||A*q - lambda*q||_2 = 2.51405e-07\n",
      "Iteration 650:\n",
      "- lambda = 3.97766\n",
      "- ||A*q - lambda*q||_2 = 2.12391e-07\n",
      "Iteration 660:\n",
      "- lambda = 3.97766\n",
      "- ||A*q - lambda*q||_2 = 1.79431e-07\n",
      "Iteration 670:\n",
      "- lambda = 3.97766\n",
      "- ||A*q - lambda*q||_2 = 1.51586e-07\n",
      "Iteration 680:\n",
      "- lambda = 3.97766\n",
      "- ||A*q - lambda*q||_2 = 1.28062e-07\n",
      "Iteration 690:\n",
      "- lambda = 3.97766\n",
      "- ||A*q - lambda*q||_2 = 1.08189e-07\n",
      "Iteration 700:\n",
      "- lambda = 3.97766\n",
      "- ||A*q - lambda*q||_2 = 9.13993e-08\n",
      "Iteration 710:\n",
      "- lambda = 3.97766\n",
      "- ||A*q - lambda*q||_2 = 7.72154e-08\n",
      "Iteration 720:\n",
      "- lambda = 3.97766\n",
      "- ||A*q - lambda*q||_2 = 6.52327e-08\n",
      "Iteration 730:\n",
      "- lambda = 3.97766\n",
      "- ||A*q - lambda*q||_2 = 5.51096e-08\n",
      "Iteration 740:\n",
      "- lambda = 3.97766\n",
      "- ||A*q - lambda*q||_2 = 4.65574e-08\n",
      "Iteration 750:\n",
      "- lambda = 3.97766\n",
      "- ||A*q - lambda*q||_2 = 3.93324e-08\n",
      "Iteration 760:\n",
      "- lambda = 3.97766\n",
      "- ||A*q - lambda*q||_2 = 3.32286e-08\n",
      "Iteration 770:\n",
      "- lambda = 3.97766\n",
      "- ||A*q - lambda*q||_2 = 2.8072e-08\n",
      "Iteration 780:\n",
      "- lambda = 3.97766\n",
      "- ||A*q - lambda*q||_2 = 2.37156e-08\n",
      "Iteration 790:\n",
      "- lambda = 3.97766\n",
      "- ||A*q - lambda*q||_2 = 2.00353e-08\n",
      "Iteration 800:\n",
      "- lambda = 3.97766\n",
      "- ||A*q - lambda*q||_2 = 1.69261e-08\n",
      "Iteration 810:\n",
      "- lambda = 3.97766\n",
      "- ||A*q - lambda*q||_2 = 1.42994e-08\n",
      "Iteration 820:\n",
      "- lambda = 3.97766\n",
      "- ||A*q - lambda*q||_2 = 1.20804e-08\n",
      "Iteration 830:\n",
      "- lambda = 3.97766\n",
      "- ||A*q - lambda*q||_2 = 1.02057e-08\n",
      "Iteration 840:\n",
      "- lambda = 3.97766\n",
      "- ||A*q - lambda*q||_2 = 8.6219e-09\n",
      "Converged after 840 iterations\n"
     ]
    },
    {
     "data": {
      "text/plain": [
       "(double) 3.9776617\n"
      ]
     },
     "execution_count": 15,
     "metadata": {},
     "output_type": "execute_result"
    }
   ],
   "source": [
    "powerMethod(A, 1500, 1e-8);"
   ]
  },
  {
   "cell_type": "code",
   "execution_count": null,
   "metadata": {},
   "outputs": [],
   "source": []
  }
 ],
 "metadata": {
  "kernelspec": {
   "display_name": "C++17",
   "language": "C++",
   "name": "cling-cpp17"
  },
  "language_info": {
   "codemirror_mode": "c++",
   "file_extension": ".c++",
   "mimetype": "text/x-c++src",
   "name": "c++"
  }
 },
 "nbformat": 4,
 "nbformat_minor": 2
}
